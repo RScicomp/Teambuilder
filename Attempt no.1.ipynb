{
 "cells": [
  {
   "cell_type": "code",
   "execution_count": 438,
   "metadata": {},
   "outputs": [],
   "source": [
    "import pandas as pd\n",
    "from pulp import *\n",
    "import numpy as np"
   ]
  },
  {
   "cell_type": "code",
   "execution_count": 502,
   "metadata": {},
   "outputs": [],
   "source": [
    "free_agents=pd.read_csv(\"free_agents.csv\")\n",
    "raptors=pd.read_csv(\"raptors.csv\")\n"
   ]
  },
  {
   "cell_type": "code",
   "execution_count": null,
   "metadata": {},
   "outputs": [],
   "source": [
    "free_agents.append(raptors)"
   ]
  },
  {
   "cell_type": "code",
   "execution_count": 494,
   "metadata": {},
   "outputs": [
    {
     "data": {
      "text/plain": [
       "{'AVG SALARY', 'Player', 'Pos', 'TYPE', 'Tm'}"
      ]
     },
     "execution_count": 494,
     "metadata": {},
     "output_type": "execute_result"
    }
   ],
   "source": [
    "set(free_agents.columns)-set(raptors.columns)\n",
    "#For shooting you want to evaluate the shooters not the PF right?"
   ]
  },
  {
   "cell_type": "markdown",
   "metadata": {},
   "source": [
    "Note we don't have position of the raptors players"
   ]
  },
  {
   "cell_type": "code",
   "execution_count": 440,
   "metadata": {},
   "outputs": [],
   "source": [
    "BUDGET=109.14 *10**6"
   ]
  },
  {
   "cell_type": "code",
   "execution_count": 441,
   "metadata": {},
   "outputs": [],
   "source": [
    "#free_agents=free_agents[free_agents['Player'].isin(raptors['name'])==False].reset_index(drop=True)"
   ]
  },
  {
   "cell_type": "code",
   "execution_count": 442,
   "metadata": {},
   "outputs": [],
   "source": [
    "# Treat like portfolio optimization problem, where risk is turnover.\n",
    "# Offensive team vs Defensive team\n",
    "# Convex model using gorubi\n",
    "# Include injury rate"
   ]
  },
  {
   "cell_type": "code",
   "execution_count": 443,
   "metadata": {},
   "outputs": [],
   "source": [
    "#2020 salary was known in 2019 (assumption)\n",
    "#decision vars for every player."
   ]
  },
  {
   "cell_type": "markdown",
   "metadata": {},
   "source": [
    "### Turn non-percentage values to percentages"
   ]
  },
  {
   "cell_type": "code",
   "execution_count": 444,
   "metadata": {},
   "outputs": [],
   "source": [
    "percentages=free_agents.columns[free_agents.columns.str.contains(\"%\")]\n",
    "res=[free_agents[percentage]/100 if len(free_agents[free_agents[percentage]>1])>1 else free_agents[percentage] for percentage in percentages]"
   ]
  },
  {
   "cell_type": "code",
   "execution_count": 445,
   "metadata": {},
   "outputs": [],
   "source": [
    "res=pd.DataFrame(res).T\n",
    "for col in list(res.columns):\n",
    "    free_agents[col]=res[col]"
   ]
  },
  {
   "cell_type": "code",
   "execution_count": 446,
   "metadata": {},
   "outputs": [],
   "source": [
    "free_agents['eFG']= (free_agents['FG'] + 0.5 * free_agents['3P'])/ free_agents['FGA']\n",
    "free_agents['TOV_Factor']=free_agents['TOV'] / (free_agents['FGA']+ 0.44 * free_agents['FTA']+ free_agents['TOV']) \n",
    "free_agents = free_agents.replace(np.nan, 0)\n",
    "#free_agents['Offensive Rebounding']=free_agents['ORB'] / (free_agents['Opp ORB'] + free_agents['DRB'])\n",
    "#free_agents['Defensive Rebounding']=free_agents['DRB'] / (Opp ORB + DRB)"
   ]
  },
  {
   "cell_type": "markdown",
   "metadata": {},
   "source": [
    "### Decision Variables \n",
    "Note because we do not have opp ORB and DRB I am using ORB% and DRB %"
   ]
  },
  {
   "cell_type": "code",
   "execution_count": 490,
   "metadata": {},
   "outputs": [],
   "source": [
    "typeplayer= list(set(free_agents['TYPE']))\n",
    "positions= list(set(free_agents['Pos']))\n",
    "\n",
    "playersall = LpVariable.dicts(name='Agent', indexs=range(len(free_agents)), cat=LpBinary) \n",
    "playertypes= LpVariable.dicts(name=\"Player\",indexs=(range(15),positions),cat=LpBinary) # Ensure that player has \n",
    "playersraptors= LpVariable.dicts(name=\"RaptorsPlayer\",indexs=(range(len(raptors))),cat=LpBinary) # Ensure that player has \n",
    "positions = LpVariable.dicts(name='Position', indexs=positions, cat=LpBinary) # Ensure all positions are filled\n"
   ]
  },
  {
   "cell_type": "code",
   "execution_count": 491,
   "metadata": {},
   "outputs": [],
   "source": [
    "eFG=lpSum(np.array(free_agents['eFG'])*np.array(list(playersall.values())))\n",
    "TOV_Factor=lpSum(np.array(free_agents['TOV_Factor'])*np.array(list(playersall.values())))\n",
    "ORB=lpSum(np.array(free_agents['ORB%'])*np.array(list(playersall.values())))\n",
    "DRB=lpSum(np.array(free_agents['DRB%'])*np.array(list(playersall.values())))\n",
    "\n",
    "playersbought=15\n"
   ]
  },
  {
   "cell_type": "markdown",
   "metadata": {},
   "source": [
    "### Objective\n",
    "Note because we cannot do non-linear objectives, we always have to have a team size of 15"
   ]
  },
  {
   "cell_type": "code",
   "execution_count": 492,
   "metadata": {},
   "outputs": [],
   "source": [
    "prob = LpProblem(\"NBA\")\n",
    "prob.sense = LpMaximize\n",
    "\n",
    "\n",
    "\n",
    "#divide by playersbought for gurobi instead of 15?\n",
    "objective=lpSum((.4*eFG)/playersbought - (.25*TOV_Factor)/playersbought + (.2*ORB)/playersbought + (.15*DRB)/playersbought)\n",
    "prob+=objective"
   ]
  },
  {
   "cell_type": "markdown",
   "metadata": {},
   "source": [
    "### Constraints"
   ]
  },
  {
   "cell_type": "markdown",
   "metadata": {},
   "source": [
    "budget constraint: Note that some player's avg salaries are missing. Ie. Zaza has been playing for years but doesn't have an average salary. Replaced with a minimum salary of $899831"
   ]
  },
  {
   "cell_type": "code",
   "execution_count": 501,
   "metadata": {},
   "outputs": [
    {
     "data": {
      "text/plain": [
       "{0: Raptors_NonAgent_0,\n",
       " 2: Raptors_NonAgent_2,\n",
       " 4: Raptors_NonAgent_4,\n",
       " 5: Raptors_NonAgent_5,\n",
       " 6: Raptors_NonAgent_6,\n",
       " 7: Raptors_NonAgent_7,\n",
       " 8: Raptors_NonAgent_8,\n",
       " 11: Raptors_NonAgent_11,\n",
       " 13: Raptors_NonAgent_13,\n",
       " 14: Raptors_NonAgent_14}"
      ]
     },
     "execution_count": 501,
     "metadata": {},
     "output_type": "execute_result"
    }
   ],
   "source": [
    "raptornonfreeagentsold"
   ]
  },
  {
   "cell_type": "code",
   "execution_count": 500,
   "metadata": {},
   "outputs": [],
   "source": [
    "#budget constraint: \n",
    "averagesalary = [int(salary) for salary in free_agents['AVG SALARY'] if salary != \"-\"]\n",
    "#Need to fill in NAs\n",
    "minimumsalaries =898310 #[898310,1445697,1620564,1678854,1737145,1882867,2028594,2174318,2320044,2331593,2564753]\n",
    "free_agents['AVG SALARY'] = [int(salary) if salary != \"-\" else minimumsalary for salary in free_agents['AVG SALARY']]\n",
    "\n",
    "#ensure that we deduct the salary of non free agents on raptors if we choose to kick them\n",
    "nonfree=raptors[raptors['free agent']==0]\n",
    "raptornonfreeagentsold=LpVariable.dicts(name='Raptors_NonAgent', indexs=nonfree.index, cat=LpBinary) \n",
    "#inverse=LpConstraint(name=\"RaptorsnonAgent_kicked\",e=1-playersall[i],sense=0,rhs=0) #Constraint that if we keep 1, then this variable must be the inverse 0. Ie no matter what we pay their salary\n",
    "##notefinished\n",
    "\n",
    "transactioncost=0\n",
    "\n",
    "#transactioncost=0\n",
    "#for indexog,indexfa in zip(raptorsfaog.index,raptorsfa.index):\n",
    "#    transactioncost += playersall[indexfa]*raptorsfaog['salary_2020'][indexog]\n",
    "\n",
    "spending=lpSum(np.array(free_agents['AVG SALARY'])*np.array(list(playersall.values()))+transactioncost)\n",
    "\n",
    "\n",
    "budgetconstraint=LpConstraint(name=\"budget_constraint\",e=spending,sense=-1,rhs=BUDGET)\n",
    "prob.addConstraint(budgetconstraint)\n"
   ]
  },
  {
   "cell_type": "markdown",
   "metadata": {},
   "source": [
    "team constraints must be size 15"
   ]
  },
  {
   "cell_type": "code",
   "execution_count": 451,
   "metadata": {},
   "outputs": [],
   "source": [
    "teamconstraint=LpConstraint(name=\"team_size\",e=lpSum(np.array(list(playersall.values()))),rhs=15,sense=0)\n",
    "prob.addConstraint(teamconstraint)"
   ]
  },
  {
   "cell_type": "markdown",
   "metadata": {},
   "source": [
    "position constraints, 5 guards, 5 forwards and 2 centres"
   ]
  },
  {
   "cell_type": "code",
   "execution_count": 452,
   "metadata": {},
   "outputs": [],
   "source": [
    "def positionalconstraints(df,keyword=\"C\",cname=\"Center Constraint\",constr=2):\n",
    "    centres=df[df['Pos'].str.contains(keyword)]\n",
    "    subcentres=set(centres['Pos'])\n",
    "    #does a forward Centre count as two?\n",
    "    centerconstraint=0\n",
    "    for center in centres.index:\n",
    "        centerconstraint+=playersall[center]\n",
    "    centreconstraint=LpConstraint(name=cname,e=centerconstraint,sense=1,rhs=constr)\n",
    "    return(centreconstraint)\n",
    "prob.addConstraint(positionalconstraints(free_agents))\n",
    "prob.addConstraint(positionalconstraints(free_agents,keyword=\"G\",cname=\"Guard Constraint\",constr=5))\n",
    "prob.addConstraint(positionalconstraints(free_agents,keyword=\"F\",cname=\"Forward Constraint\",constr=5))\n",
    "\n"
   ]
  },
  {
   "cell_type": "code",
   "execution_count": 453,
   "metadata": {},
   "outputs": [
    {
     "data": {
      "text/plain": [
       "1"
      ]
     },
     "execution_count": 453,
     "metadata": {},
     "output_type": "execute_result"
    }
   ],
   "source": [
    "prob.solve()"
   ]
  },
  {
   "cell_type": "code",
   "execution_count": 454,
   "metadata": {},
   "outputs": [
    {
     "name": "stdout",
     "output_type": "stream",
     "text": [
      "============================== \n",
      "Solution Status: Optimal\n",
      "The objectve is 0.28\n",
      "Optimal Solution:\n",
      "Agent_105 = 1.0\n",
      "Agent_160 = 1.0\n",
      "Agent_162 = 1.0\n",
      "Agent_168 = 1.0\n",
      "Agent_177 = 1.0\n",
      "Agent_19 = 1.0\n",
      "Agent_193 = 1.0\n",
      "Agent_215 = 1.0\n",
      "Agent_219 = 1.0\n",
      "Agent_28 = 1.0\n",
      "Agent_59 = 1.0\n",
      "Agent_80 = 1.0\n",
      "Agent_81 = 1.0\n",
      "Agent_88 = 1.0\n",
      "Agent_96 = 1.0\n",
      "Constraints\n",
      "budget_constraint = -59786939.0\n",
      "team_size = 0.0\n",
      "Center_Constraint = 4.0\n",
      "Guard_Constraint = 0.0\n",
      "Forward_Constraint = 0.0\n"
     ]
    }
   ],
   "source": [
    "def showresults(prob):\n",
    "    # The status of the solution is printed to the screen\n",
    "    print(\"=\"*30,\"\\nSolution Status:\", LpStatus[prob.status])\n",
    "\n",
    "    # Results\n",
    "    obj = value(prob.objective)\n",
    "    print(\"The objectve is {}\".format(round(obj,2)))\n",
    "\n",
    "    print(\"Optimal Solution:\")\n",
    "    for v in prob.variables():\n",
    "        if(v.varValue==1):\n",
    "            print(v.name, \"=\", v.varValue)\n",
    "\n",
    "    print(\"Constraints\")\n",
    "    for c in list(prob.constraints.values()):\n",
    "        print(c.name, \"=\", c.value())\n",
    "def sensitivity(prob):\n",
    "    #Print reduced costs\n",
    "    o = [{'Variables':v.name,\n",
    "          'Final Value':v.varValue,\n",
    "          'Reduced Cost':v.dj,\n",
    "          }\n",
    "         for v in prob.variables()]\n",
    "    print(pd.DataFrame(o),'\\n')\n",
    "\n",
    "    #Print shadow price and constraint slack\n",
    "    o = [{'Constraint':name,\n",
    "          'Shadow Price':c.pi,\n",
    "          'RHS':-c.constant,\n",
    "          'Slack': c.slack}\n",
    "         for name, c in prob.constraints.items()]\n",
    "    print(pd.DataFrame(o))\n",
    "    \n",
    "showresults(prob)"
   ]
  },
  {
   "cell_type": "code",
   "execution_count": 455,
   "metadata": {},
   "outputs": [
    {
     "name": "stdout",
     "output_type": "stream",
     "text": [
      "     Variables  Final Value  Reduced Cost\n",
      "0      Agent_0          0.0      0.012466\n",
      "1      Agent_1          0.0     -0.008333\n",
      "2     Agent_10          0.0      0.011790\n",
      "3    Agent_100          0.0      0.012504\n",
      "4    Agent_101          0.0      0.013044\n",
      "..         ...          ...           ...\n",
      "217   Agent_95          0.0      0.014151\n",
      "218   Agent_96          1.0      0.018764\n",
      "219   Agent_97          0.0      0.013368\n",
      "220   Agent_98          0.0      0.013972\n",
      "221   Agent_99          0.0      0.015626\n",
      "\n",
      "[222 rows x 3 columns] \n",
      "\n",
      "           Constraint  Shadow Price          RHS       Slack\n",
      "0   budget_constraint          -0.0  109140000.0  59786939.0\n",
      "1           team_size          -0.0         15.0        -0.0\n",
      "2   Center_Constraint          -0.0          2.0        -4.0\n",
      "3    Guard_Constraint          -0.0          5.0        -0.0\n",
      "4  Forward_Constraint          -0.0          5.0        -0.0\n"
     ]
    }
   ],
   "source": [
    "sensitivity(prob)"
   ]
  },
  {
   "cell_type": "markdown",
   "metadata": {},
   "source": [
    "### Chosen Players"
   ]
  },
  {
   "cell_type": "code",
   "execution_count": 461,
   "metadata": {},
   "outputs": [
    {
     "data": {
      "text/plain": [
       "['Jordan Loyd',\n",
       " 'Ekpe Udoh',\n",
       " 'Ed Davis',\n",
       " 'Deyonta Davis',\n",
       " 'DeAndre Jordan',\n",
       " 'Troy Caupain',\n",
       " 'Cheick Diallo',\n",
       " 'Amile Jefferson',\n",
       " 'Alan Williams',\n",
       " 'Thomas Bryant',\n",
       " 'R.J. Hunter',\n",
       " 'Marcus Derrickson',\n",
       " 'Malcolm Brogdon',\n",
       " 'Kyle Korver',\n",
       " 'Kenneth Faried']"
      ]
     },
     "execution_count": 461,
     "metadata": {},
     "output_type": "execute_result"
    }
   ],
   "source": [
    "chosen=[]\n",
    "for var in prob.variables():\n",
    "    if(\"Agent\" in var.name):\n",
    "        if(var.varValue==1):\n",
    "            no=int(var.name.split(\"_\")[1])\n",
    "            chosen.append(free_agents['Player'][no])\n",
    "chosen\n",
    "            "
   ]
  },
  {
   "cell_type": "code",
   "execution_count": 467,
   "metadata": {},
   "outputs": [
    {
     "data": {
      "text/html": [
       "<div>\n",
       "<style scoped>\n",
       "    .dataframe tbody tr th:only-of-type {\n",
       "        vertical-align: middle;\n",
       "    }\n",
       "\n",
       "    .dataframe tbody tr th {\n",
       "        vertical-align: top;\n",
       "    }\n",
       "\n",
       "    .dataframe thead th {\n",
       "        text-align: right;\n",
       "    }\n",
       "</style>\n",
       "<table border=\"1\" class=\"dataframe\">\n",
       "  <thead>\n",
       "    <tr style=\"text-align: right;\">\n",
       "      <th></th>\n",
       "      <th>Unnamed: 0</th>\n",
       "      <th>Player</th>\n",
       "      <th>TYPE</th>\n",
       "      <th>AVG SALARY</th>\n",
       "      <th>Pos</th>\n",
       "      <th>Age</th>\n",
       "      <th>Tm</th>\n",
       "      <th>G</th>\n",
       "      <th>MP</th>\n",
       "      <th>PER</th>\n",
       "      <th>...</th>\n",
       "      <th>AST</th>\n",
       "      <th>STL</th>\n",
       "      <th>BLK</th>\n",
       "      <th>TOV</th>\n",
       "      <th>PF</th>\n",
       "      <th>PTS</th>\n",
       "      <th>ORtg</th>\n",
       "      <th>DRtg</th>\n",
       "      <th>eFG</th>\n",
       "      <th>TOV_Factor</th>\n",
       "    </tr>\n",
       "  </thead>\n",
       "  <tbody>\n",
       "    <tr>\n",
       "      <th>19</th>\n",
       "      <td>19</td>\n",
       "      <td>Troy Caupain</td>\n",
       "      <td>RFA</td>\n",
       "      <td>898310</td>\n",
       "      <td>PG</td>\n",
       "      <td>23</td>\n",
       "      <td>ORL</td>\n",
       "      <td>4</td>\n",
       "      <td>16</td>\n",
       "      <td>30.7</td>\n",
       "      <td>...</td>\n",
       "      <td>12.2</td>\n",
       "      <td>3.1</td>\n",
       "      <td>0.0</td>\n",
       "      <td>0.0</td>\n",
       "      <td>0.0</td>\n",
       "      <td>30.6</td>\n",
       "      <td>144.0</td>\n",
       "      <td>107</td>\n",
       "      <td>0.622449</td>\n",
       "      <td>0.000000</td>\n",
       "    </tr>\n",
       "    <tr>\n",
       "      <th>28</th>\n",
       "      <td>28</td>\n",
       "      <td>Thomas Bryant</td>\n",
       "      <td>RFA</td>\n",
       "      <td>898310</td>\n",
       "      <td>C</td>\n",
       "      <td>21</td>\n",
       "      <td>WAS</td>\n",
       "      <td>72</td>\n",
       "      <td>1496</td>\n",
       "      <td>21.0</td>\n",
       "      <td>...</td>\n",
       "      <td>2.9</td>\n",
       "      <td>0.8</td>\n",
       "      <td>2.1</td>\n",
       "      <td>1.9</td>\n",
       "      <td>4.0</td>\n",
       "      <td>24.0</td>\n",
       "      <td>130.0</td>\n",
       "      <td>112</td>\n",
       "      <td>0.647799</td>\n",
       "      <td>0.096486</td>\n",
       "    </tr>\n",
       "    <tr>\n",
       "      <th>59</th>\n",
       "      <td>59</td>\n",
       "      <td>R.J. Hunter</td>\n",
       "      <td>UFA</td>\n",
       "      <td>898310</td>\n",
       "      <td>SG</td>\n",
       "      <td>25</td>\n",
       "      <td>BOS</td>\n",
       "      <td>1</td>\n",
       "      <td>26</td>\n",
       "      <td>21.5</td>\n",
       "      <td>...</td>\n",
       "      <td>5.6</td>\n",
       "      <td>1.9</td>\n",
       "      <td>0.0</td>\n",
       "      <td>0.0</td>\n",
       "      <td>5.6</td>\n",
       "      <td>31.5</td>\n",
       "      <td>131.0</td>\n",
       "      <td>111</td>\n",
       "      <td>0.614108</td>\n",
       "      <td>0.000000</td>\n",
       "    </tr>\n",
       "    <tr>\n",
       "      <th>80</th>\n",
       "      <td>80</td>\n",
       "      <td>Marcus Derrickson</td>\n",
       "      <td>UFA</td>\n",
       "      <td>898310</td>\n",
       "      <td>PF</td>\n",
       "      <td>22</td>\n",
       "      <td>GSW</td>\n",
       "      <td>11</td>\n",
       "      <td>67</td>\n",
       "      <td>19.4</td>\n",
       "      <td>...</td>\n",
       "      <td>0.7</td>\n",
       "      <td>0.0</td>\n",
       "      <td>0.7</td>\n",
       "      <td>2.1</td>\n",
       "      <td>6.4</td>\n",
       "      <td>32.7</td>\n",
       "      <td>123.0</td>\n",
       "      <td>116</td>\n",
       "      <td>0.638889</td>\n",
       "      <td>0.077537</td>\n",
       "    </tr>\n",
       "    <tr>\n",
       "      <th>81</th>\n",
       "      <td>81</td>\n",
       "      <td>Malcolm Brogdon</td>\n",
       "      <td>RFA</td>\n",
       "      <td>21250000</td>\n",
       "      <td>SG</td>\n",
       "      <td>26</td>\n",
       "      <td>MIL</td>\n",
       "      <td>64</td>\n",
       "      <td>1832</td>\n",
       "      <td>17.8</td>\n",
       "      <td>...</td>\n",
       "      <td>5.2</td>\n",
       "      <td>1.2</td>\n",
       "      <td>0.3</td>\n",
       "      <td>2.3</td>\n",
       "      <td>2.6</td>\n",
       "      <td>25.4</td>\n",
       "      <td>121.0</td>\n",
       "      <td>108</td>\n",
       "      <td>0.573684</td>\n",
       "      <td>0.099930</td>\n",
       "    </tr>\n",
       "    <tr>\n",
       "      <th>88</th>\n",
       "      <td>88</td>\n",
       "      <td>Kyle Korver</td>\n",
       "      <td>UFA</td>\n",
       "      <td>2564753</td>\n",
       "      <td>SG-PF</td>\n",
       "      <td>37</td>\n",
       "      <td>TOT</td>\n",
       "      <td>70</td>\n",
       "      <td>1334</td>\n",
       "      <td>11.2</td>\n",
       "      <td>...</td>\n",
       "      <td>2.9</td>\n",
       "      <td>0.9</td>\n",
       "      <td>0.4</td>\n",
       "      <td>2.1</td>\n",
       "      <td>3.8</td>\n",
       "      <td>21.7</td>\n",
       "      <td>109.0</td>\n",
       "      <td>111</td>\n",
       "      <td>0.563218</td>\n",
       "      <td>0.101724</td>\n",
       "    </tr>\n",
       "    <tr>\n",
       "      <th>96</th>\n",
       "      <td>96</td>\n",
       "      <td>Kenneth Faried</td>\n",
       "      <td>UFA</td>\n",
       "      <td>898310</td>\n",
       "      <td>C</td>\n",
       "      <td>29</td>\n",
       "      <td>TOT</td>\n",
       "      <td>37</td>\n",
       "      <td>728</td>\n",
       "      <td>21.6</td>\n",
       "      <td>...</td>\n",
       "      <td>1.3</td>\n",
       "      <td>1.1</td>\n",
       "      <td>1.5</td>\n",
       "      <td>2.2</td>\n",
       "      <td>5.5</td>\n",
       "      <td>25.7</td>\n",
       "      <td>125.0</td>\n",
       "      <td>109</td>\n",
       "      <td>0.603933</td>\n",
       "      <td>0.096053</td>\n",
       "    </tr>\n",
       "    <tr>\n",
       "      <th>105</th>\n",
       "      <td>105</td>\n",
       "      <td>Jordan Loyd</td>\n",
       "      <td>UFA</td>\n",
       "      <td>898310</td>\n",
       "      <td>PG</td>\n",
       "      <td>25</td>\n",
       "      <td>TOR</td>\n",
       "      <td>12</td>\n",
       "      <td>55</td>\n",
       "      <td>16.3</td>\n",
       "      <td>...</td>\n",
       "      <td>5.2</td>\n",
       "      <td>0.0</td>\n",
       "      <td>0.0</td>\n",
       "      <td>1.7</td>\n",
       "      <td>4.4</td>\n",
       "      <td>25.3</td>\n",
       "      <td>130.0</td>\n",
       "      <td>112</td>\n",
       "      <td>0.557325</td>\n",
       "      <td>0.078616</td>\n",
       "    </tr>\n",
       "    <tr>\n",
       "      <th>160</th>\n",
       "      <td>160</td>\n",
       "      <td>Ekpe Udoh</td>\n",
       "      <td>UFA</td>\n",
       "      <td>898310</td>\n",
       "      <td>C</td>\n",
       "      <td>31</td>\n",
       "      <td>UTA</td>\n",
       "      <td>51</td>\n",
       "      <td>320</td>\n",
       "      <td>20.9</td>\n",
       "      <td>...</td>\n",
       "      <td>4.2</td>\n",
       "      <td>1.5</td>\n",
       "      <td>4.6</td>\n",
       "      <td>1.9</td>\n",
       "      <td>5.4</td>\n",
       "      <td>17.8</td>\n",
       "      <td>135.0</td>\n",
       "      <td>100</td>\n",
       "      <td>0.694444</td>\n",
       "      <td>0.129428</td>\n",
       "    </tr>\n",
       "    <tr>\n",
       "      <th>162</th>\n",
       "      <td>162</td>\n",
       "      <td>Ed Davis</td>\n",
       "      <td>UFA</td>\n",
       "      <td>4886175</td>\n",
       "      <td>C</td>\n",
       "      <td>29</td>\n",
       "      <td>BRK</td>\n",
       "      <td>81</td>\n",
       "      <td>1446</td>\n",
       "      <td>17.3</td>\n",
       "      <td>...</td>\n",
       "      <td>2.0</td>\n",
       "      <td>1.2</td>\n",
       "      <td>1.1</td>\n",
       "      <td>2.1</td>\n",
       "      <td>7.4</td>\n",
       "      <td>15.5</td>\n",
       "      <td>129.0</td>\n",
       "      <td>105</td>\n",
       "      <td>0.616162</td>\n",
       "      <td>0.146525</td>\n",
       "    </tr>\n",
       "    <tr>\n",
       "      <th>168</th>\n",
       "      <td>168</td>\n",
       "      <td>Deyonta Davis</td>\n",
       "      <td>UFA</td>\n",
       "      <td>898310</td>\n",
       "      <td>C</td>\n",
       "      <td>22</td>\n",
       "      <td>ATL</td>\n",
       "      <td>9</td>\n",
       "      <td>118</td>\n",
       "      <td>15.6</td>\n",
       "      <td>...</td>\n",
       "      <td>2.0</td>\n",
       "      <td>1.2</td>\n",
       "      <td>2.0</td>\n",
       "      <td>1.2</td>\n",
       "      <td>4.7</td>\n",
       "      <td>14.1</td>\n",
       "      <td>136.0</td>\n",
       "      <td>112</td>\n",
       "      <td>0.686047</td>\n",
       "      <td>0.104203</td>\n",
       "    </tr>\n",
       "    <tr>\n",
       "      <th>177</th>\n",
       "      <td>177</td>\n",
       "      <td>DeAndre Jordan</td>\n",
       "      <td>UFA</td>\n",
       "      <td>9990179</td>\n",
       "      <td>C</td>\n",
       "      <td>30</td>\n",
       "      <td>TOT</td>\n",
       "      <td>69</td>\n",
       "      <td>2047</td>\n",
       "      <td>19.0</td>\n",
       "      <td>...</td>\n",
       "      <td>3.7</td>\n",
       "      <td>1.0</td>\n",
       "      <td>1.7</td>\n",
       "      <td>3.6</td>\n",
       "      <td>4.0</td>\n",
       "      <td>17.9</td>\n",
       "      <td>122.0</td>\n",
       "      <td>106</td>\n",
       "      <td>0.641509</td>\n",
       "      <td>0.212665</td>\n",
       "    </tr>\n",
       "    <tr>\n",
       "      <th>193</th>\n",
       "      <td>193</td>\n",
       "      <td>Cheick Diallo</td>\n",
       "      <td>UFA</td>\n",
       "      <td>1678854</td>\n",
       "      <td>PF</td>\n",
       "      <td>22</td>\n",
       "      <td>NOP</td>\n",
       "      <td>64</td>\n",
       "      <td>896</td>\n",
       "      <td>17.5</td>\n",
       "      <td>...</td>\n",
       "      <td>1.7</td>\n",
       "      <td>1.5</td>\n",
       "      <td>1.7</td>\n",
       "      <td>2.5</td>\n",
       "      <td>5.9</td>\n",
       "      <td>20.1</td>\n",
       "      <td>119.0</td>\n",
       "      <td>108</td>\n",
       "      <td>0.620567</td>\n",
       "      <td>0.137817</td>\n",
       "    </tr>\n",
       "    <tr>\n",
       "      <th>215</th>\n",
       "      <td>215</td>\n",
       "      <td>Amile Jefferson</td>\n",
       "      <td>UFA</td>\n",
       "      <td>898310</td>\n",
       "      <td>PF</td>\n",
       "      <td>25</td>\n",
       "      <td>ORL</td>\n",
       "      <td>12</td>\n",
       "      <td>68</td>\n",
       "      <td>21.1</td>\n",
       "      <td>...</td>\n",
       "      <td>2.2</td>\n",
       "      <td>2.2</td>\n",
       "      <td>2.2</td>\n",
       "      <td>0.7</td>\n",
       "      <td>5.8</td>\n",
       "      <td>19.4</td>\n",
       "      <td>146.0</td>\n",
       "      <td>103</td>\n",
       "      <td>0.626087</td>\n",
       "      <td>0.047451</td>\n",
       "    </tr>\n",
       "    <tr>\n",
       "      <th>219</th>\n",
       "      <td>219</td>\n",
       "      <td>Alan Williams</td>\n",
       "      <td>UFA</td>\n",
       "      <td>898310</td>\n",
       "      <td>PF</td>\n",
       "      <td>26</td>\n",
       "      <td>BRK</td>\n",
       "      <td>5</td>\n",
       "      <td>26</td>\n",
       "      <td>32.9</td>\n",
       "      <td>...</td>\n",
       "      <td>5.5</td>\n",
       "      <td>1.8</td>\n",
       "      <td>0.0</td>\n",
       "      <td>1.8</td>\n",
       "      <td>3.7</td>\n",
       "      <td>33.0</td>\n",
       "      <td>128.0</td>\n",
       "      <td>98</td>\n",
       "      <td>0.613445</td>\n",
       "      <td>0.062474</td>\n",
       "    </tr>\n",
       "  </tbody>\n",
       "</table>\n",
       "<p>15 rows × 55 columns</p>\n",
       "</div>"
      ],
      "text/plain": [
       "     Unnamed: 0             Player TYPE  AVG SALARY    Pos  Age   Tm   G  \\\n",
       "19           19       Troy Caupain  RFA      898310     PG   23  ORL   4   \n",
       "28           28      Thomas Bryant  RFA      898310      C   21  WAS  72   \n",
       "59           59        R.J. Hunter  UFA      898310     SG   25  BOS   1   \n",
       "80           80  Marcus Derrickson  UFA      898310     PF   22  GSW  11   \n",
       "81           81    Malcolm Brogdon  RFA    21250000     SG   26  MIL  64   \n",
       "88           88        Kyle Korver  UFA     2564753  SG-PF   37  TOT  70   \n",
       "96           96     Kenneth Faried  UFA      898310      C   29  TOT  37   \n",
       "105         105        Jordan Loyd  UFA      898310     PG   25  TOR  12   \n",
       "160         160          Ekpe Udoh  UFA      898310      C   31  UTA  51   \n",
       "162         162           Ed Davis  UFA     4886175      C   29  BRK  81   \n",
       "168         168      Deyonta Davis  UFA      898310      C   22  ATL   9   \n",
       "177         177     DeAndre Jordan  UFA     9990179      C   30  TOT  69   \n",
       "193         193      Cheick Diallo  UFA     1678854     PF   22  NOP  64   \n",
       "215         215    Amile Jefferson  UFA      898310     PF   25  ORL  12   \n",
       "219         219      Alan Williams  UFA      898310     PF   26  BRK   5   \n",
       "\n",
       "       MP   PER  ...   AST  STL  BLK  TOV   PF   PTS   ORtg  DRtg       eFG  \\\n",
       "19     16  30.7  ...  12.2  3.1  0.0  0.0  0.0  30.6  144.0   107  0.622449   \n",
       "28   1496  21.0  ...   2.9  0.8  2.1  1.9  4.0  24.0  130.0   112  0.647799   \n",
       "59     26  21.5  ...   5.6  1.9  0.0  0.0  5.6  31.5  131.0   111  0.614108   \n",
       "80     67  19.4  ...   0.7  0.0  0.7  2.1  6.4  32.7  123.0   116  0.638889   \n",
       "81   1832  17.8  ...   5.2  1.2  0.3  2.3  2.6  25.4  121.0   108  0.573684   \n",
       "88   1334  11.2  ...   2.9  0.9  0.4  2.1  3.8  21.7  109.0   111  0.563218   \n",
       "96    728  21.6  ...   1.3  1.1  1.5  2.2  5.5  25.7  125.0   109  0.603933   \n",
       "105    55  16.3  ...   5.2  0.0  0.0  1.7  4.4  25.3  130.0   112  0.557325   \n",
       "160   320  20.9  ...   4.2  1.5  4.6  1.9  5.4  17.8  135.0   100  0.694444   \n",
       "162  1446  17.3  ...   2.0  1.2  1.1  2.1  7.4  15.5  129.0   105  0.616162   \n",
       "168   118  15.6  ...   2.0  1.2  2.0  1.2  4.7  14.1  136.0   112  0.686047   \n",
       "177  2047  19.0  ...   3.7  1.0  1.7  3.6  4.0  17.9  122.0   106  0.641509   \n",
       "193   896  17.5  ...   1.7  1.5  1.7  2.5  5.9  20.1  119.0   108  0.620567   \n",
       "215    68  21.1  ...   2.2  2.2  2.2  0.7  5.8  19.4  146.0   103  0.626087   \n",
       "219    26  32.9  ...   5.5  1.8  0.0  1.8  3.7  33.0  128.0    98  0.613445   \n",
       "\n",
       "     TOV_Factor  \n",
       "19     0.000000  \n",
       "28     0.096486  \n",
       "59     0.000000  \n",
       "80     0.077537  \n",
       "81     0.099930  \n",
       "88     0.101724  \n",
       "96     0.096053  \n",
       "105    0.078616  \n",
       "160    0.129428  \n",
       "162    0.146525  \n",
       "168    0.104203  \n",
       "177    0.212665  \n",
       "193    0.137817  \n",
       "215    0.047451  \n",
       "219    0.062474  \n",
       "\n",
       "[15 rows x 55 columns]"
      ]
     },
     "execution_count": 467,
     "metadata": {},
     "output_type": "execute_result"
    }
   ],
   "source": [
    "free_agents[free_agents['Player'].isin(chosen)]"
   ]
  },
  {
   "cell_type": "markdown",
   "metadata": {},
   "source": [
    "Some further constraints and formulatons may include if we know the salary before or after? \n",
    "\n",
    "1. The salary has uncertainty, we decide on the roster, but the salary could fluctuate between one standard deviation higher with a 50% chance. So the amount paid depends on the asking price of the player. Ie. pay_xi_m = 10000,pay_xi_l = 25000 -> in the budget constraint (.5 * 10000 + .5 * 25000)*xi.\n",
    "2. Relative Youth: The youth of a player is something we need to consider. If not much data is on them, a TOV of 0 is seen as good but it really isn't"
   ]
  },
  {
   "cell_type": "markdown",
   "metadata": {},
   "source": [
    "### Salaries"
   ]
  },
  {
   "cell_type": "code",
   "execution_count": 456,
   "metadata": {},
   "outputs": [
    {
     "data": {
      "application/vnd.plotly.v1+json": {
       "config": {
        "plotlyServerURL": "https://plot.ly"
       },
       "data": [
        {
         "alignmentgroup": "True",
         "bingroup": "x",
         "hovertemplate": "variable=0<br>value=%{x}<br>count=%{y}<extra></extra>",
         "legendgroup": "0",
         "marker": {
          "color": "#636efa"
         },
         "name": "0",
         "offsetgroup": "0",
         "orientation": "v",
         "showlegend": true,
         "type": "histogram",
         "x": [
          2564753,
          2231920,
          2628872,
          8000000,
          2564753,
          2564753,
          8815100,
          2564753,
          1691680,
          2028594,
          5500000,
          2028594,
          12500000,
          36000000,
          1678854,
          1882867,
          1445697,
          1445697,
          14545000,
          2564753,
          18900000,
          13500000,
          10000000,
          3500000,
          3713575,
          1620564,
          898310,
          8000000,
          3000000,
          2564753,
          16000000,
          2500000,
          5000000,
          5860950,
          4886175,
          17000000,
          4886175,
          4100000,
          1737145,
          2592179,
          3000000,
          2564753,
          2331593,
          4000000,
          13333327,
          200000,
          25000000,
          2028594,
          4900000,
          2155814,
          2028594,
          8975000,
          3280000,
          1830141,
          21250000,
          2250000,
          34122650,
          2028594,
          2564753,
          37980720,
          35500000,
          3000000,
          4821429,
          41063925,
          8291514,
          35197650,
          15000000,
          34379100,
          4767000,
          20700000,
          1620564,
          15000000,
          35197650,
          10500000,
          2564753,
          4100000,
          1737145,
          2564753,
          4886175,
          2006445,
          3761085,
          1737145,
          6500000,
          13250000,
          7000000,
          2320044,
          2031677,
          21250000,
          1882867,
          9590602,
          4767000,
          1691680,
          4767000,
          4886175,
          1737145,
          8000000,
          2080000,
          4886175,
          2564753,
          1751429,
          4000000,
          13333333,
          1620564,
          7500000,
          6883333,
          3500000,
          14025000,
          9990179,
          7125000,
          3717000,
          15000000,
          5000000,
          29331375,
          12400000,
          1678854,
          13000000,
          1445697,
          18275000,
          15000000,
          3500000,
          4886175,
          2271991,
          2564753,
          2750000,
          2320044,
          9720900,
          27250000
         ],
         "xaxis": "x",
         "yaxis": "y"
        }
       ],
       "layout": {
        "barmode": "relative",
        "legend": {
         "title": {
          "text": "variable"
         },
         "tracegroupgap": 0
        },
        "margin": {
         "t": 60
        },
        "template": {
         "data": {
          "bar": [
           {
            "error_x": {
             "color": "#2a3f5f"
            },
            "error_y": {
             "color": "#2a3f5f"
            },
            "marker": {
             "line": {
              "color": "#E5ECF6",
              "width": 0.5
             }
            },
            "type": "bar"
           }
          ],
          "barpolar": [
           {
            "marker": {
             "line": {
              "color": "#E5ECF6",
              "width": 0.5
             }
            },
            "type": "barpolar"
           }
          ],
          "carpet": [
           {
            "aaxis": {
             "endlinecolor": "#2a3f5f",
             "gridcolor": "white",
             "linecolor": "white",
             "minorgridcolor": "white",
             "startlinecolor": "#2a3f5f"
            },
            "baxis": {
             "endlinecolor": "#2a3f5f",
             "gridcolor": "white",
             "linecolor": "white",
             "minorgridcolor": "white",
             "startlinecolor": "#2a3f5f"
            },
            "type": "carpet"
           }
          ],
          "choropleth": [
           {
            "colorbar": {
             "outlinewidth": 0,
             "ticks": ""
            },
            "type": "choropleth"
           }
          ],
          "contour": [
           {
            "colorbar": {
             "outlinewidth": 0,
             "ticks": ""
            },
            "colorscale": [
             [
              0,
              "#0d0887"
             ],
             [
              0.1111111111111111,
              "#46039f"
             ],
             [
              0.2222222222222222,
              "#7201a8"
             ],
             [
              0.3333333333333333,
              "#9c179e"
             ],
             [
              0.4444444444444444,
              "#bd3786"
             ],
             [
              0.5555555555555556,
              "#d8576b"
             ],
             [
              0.6666666666666666,
              "#ed7953"
             ],
             [
              0.7777777777777778,
              "#fb9f3a"
             ],
             [
              0.8888888888888888,
              "#fdca26"
             ],
             [
              1,
              "#f0f921"
             ]
            ],
            "type": "contour"
           }
          ],
          "contourcarpet": [
           {
            "colorbar": {
             "outlinewidth": 0,
             "ticks": ""
            },
            "type": "contourcarpet"
           }
          ],
          "heatmap": [
           {
            "colorbar": {
             "outlinewidth": 0,
             "ticks": ""
            },
            "colorscale": [
             [
              0,
              "#0d0887"
             ],
             [
              0.1111111111111111,
              "#46039f"
             ],
             [
              0.2222222222222222,
              "#7201a8"
             ],
             [
              0.3333333333333333,
              "#9c179e"
             ],
             [
              0.4444444444444444,
              "#bd3786"
             ],
             [
              0.5555555555555556,
              "#d8576b"
             ],
             [
              0.6666666666666666,
              "#ed7953"
             ],
             [
              0.7777777777777778,
              "#fb9f3a"
             ],
             [
              0.8888888888888888,
              "#fdca26"
             ],
             [
              1,
              "#f0f921"
             ]
            ],
            "type": "heatmap"
           }
          ],
          "heatmapgl": [
           {
            "colorbar": {
             "outlinewidth": 0,
             "ticks": ""
            },
            "colorscale": [
             [
              0,
              "#0d0887"
             ],
             [
              0.1111111111111111,
              "#46039f"
             ],
             [
              0.2222222222222222,
              "#7201a8"
             ],
             [
              0.3333333333333333,
              "#9c179e"
             ],
             [
              0.4444444444444444,
              "#bd3786"
             ],
             [
              0.5555555555555556,
              "#d8576b"
             ],
             [
              0.6666666666666666,
              "#ed7953"
             ],
             [
              0.7777777777777778,
              "#fb9f3a"
             ],
             [
              0.8888888888888888,
              "#fdca26"
             ],
             [
              1,
              "#f0f921"
             ]
            ],
            "type": "heatmapgl"
           }
          ],
          "histogram": [
           {
            "marker": {
             "colorbar": {
              "outlinewidth": 0,
              "ticks": ""
             }
            },
            "type": "histogram"
           }
          ],
          "histogram2d": [
           {
            "colorbar": {
             "outlinewidth": 0,
             "ticks": ""
            },
            "colorscale": [
             [
              0,
              "#0d0887"
             ],
             [
              0.1111111111111111,
              "#46039f"
             ],
             [
              0.2222222222222222,
              "#7201a8"
             ],
             [
              0.3333333333333333,
              "#9c179e"
             ],
             [
              0.4444444444444444,
              "#bd3786"
             ],
             [
              0.5555555555555556,
              "#d8576b"
             ],
             [
              0.6666666666666666,
              "#ed7953"
             ],
             [
              0.7777777777777778,
              "#fb9f3a"
             ],
             [
              0.8888888888888888,
              "#fdca26"
             ],
             [
              1,
              "#f0f921"
             ]
            ],
            "type": "histogram2d"
           }
          ],
          "histogram2dcontour": [
           {
            "colorbar": {
             "outlinewidth": 0,
             "ticks": ""
            },
            "colorscale": [
             [
              0,
              "#0d0887"
             ],
             [
              0.1111111111111111,
              "#46039f"
             ],
             [
              0.2222222222222222,
              "#7201a8"
             ],
             [
              0.3333333333333333,
              "#9c179e"
             ],
             [
              0.4444444444444444,
              "#bd3786"
             ],
             [
              0.5555555555555556,
              "#d8576b"
             ],
             [
              0.6666666666666666,
              "#ed7953"
             ],
             [
              0.7777777777777778,
              "#fb9f3a"
             ],
             [
              0.8888888888888888,
              "#fdca26"
             ],
             [
              1,
              "#f0f921"
             ]
            ],
            "type": "histogram2dcontour"
           }
          ],
          "mesh3d": [
           {
            "colorbar": {
             "outlinewidth": 0,
             "ticks": ""
            },
            "type": "mesh3d"
           }
          ],
          "parcoords": [
           {
            "line": {
             "colorbar": {
              "outlinewidth": 0,
              "ticks": ""
             }
            },
            "type": "parcoords"
           }
          ],
          "pie": [
           {
            "automargin": true,
            "type": "pie"
           }
          ],
          "scatter": [
           {
            "marker": {
             "colorbar": {
              "outlinewidth": 0,
              "ticks": ""
             }
            },
            "type": "scatter"
           }
          ],
          "scatter3d": [
           {
            "line": {
             "colorbar": {
              "outlinewidth": 0,
              "ticks": ""
             }
            },
            "marker": {
             "colorbar": {
              "outlinewidth": 0,
              "ticks": ""
             }
            },
            "type": "scatter3d"
           }
          ],
          "scattercarpet": [
           {
            "marker": {
             "colorbar": {
              "outlinewidth": 0,
              "ticks": ""
             }
            },
            "type": "scattercarpet"
           }
          ],
          "scattergeo": [
           {
            "marker": {
             "colorbar": {
              "outlinewidth": 0,
              "ticks": ""
             }
            },
            "type": "scattergeo"
           }
          ],
          "scattergl": [
           {
            "marker": {
             "colorbar": {
              "outlinewidth": 0,
              "ticks": ""
             }
            },
            "type": "scattergl"
           }
          ],
          "scattermapbox": [
           {
            "marker": {
             "colorbar": {
              "outlinewidth": 0,
              "ticks": ""
             }
            },
            "type": "scattermapbox"
           }
          ],
          "scatterpolar": [
           {
            "marker": {
             "colorbar": {
              "outlinewidth": 0,
              "ticks": ""
             }
            },
            "type": "scatterpolar"
           }
          ],
          "scatterpolargl": [
           {
            "marker": {
             "colorbar": {
              "outlinewidth": 0,
              "ticks": ""
             }
            },
            "type": "scatterpolargl"
           }
          ],
          "scatterternary": [
           {
            "marker": {
             "colorbar": {
              "outlinewidth": 0,
              "ticks": ""
             }
            },
            "type": "scatterternary"
           }
          ],
          "surface": [
           {
            "colorbar": {
             "outlinewidth": 0,
             "ticks": ""
            },
            "colorscale": [
             [
              0,
              "#0d0887"
             ],
             [
              0.1111111111111111,
              "#46039f"
             ],
             [
              0.2222222222222222,
              "#7201a8"
             ],
             [
              0.3333333333333333,
              "#9c179e"
             ],
             [
              0.4444444444444444,
              "#bd3786"
             ],
             [
              0.5555555555555556,
              "#d8576b"
             ],
             [
              0.6666666666666666,
              "#ed7953"
             ],
             [
              0.7777777777777778,
              "#fb9f3a"
             ],
             [
              0.8888888888888888,
              "#fdca26"
             ],
             [
              1,
              "#f0f921"
             ]
            ],
            "type": "surface"
           }
          ],
          "table": [
           {
            "cells": {
             "fill": {
              "color": "#EBF0F8"
             },
             "line": {
              "color": "white"
             }
            },
            "header": {
             "fill": {
              "color": "#C8D4E3"
             },
             "line": {
              "color": "white"
             }
            },
            "type": "table"
           }
          ]
         },
         "layout": {
          "annotationdefaults": {
           "arrowcolor": "#2a3f5f",
           "arrowhead": 0,
           "arrowwidth": 1
          },
          "coloraxis": {
           "colorbar": {
            "outlinewidth": 0,
            "ticks": ""
           }
          },
          "colorscale": {
           "diverging": [
            [
             0,
             "#8e0152"
            ],
            [
             0.1,
             "#c51b7d"
            ],
            [
             0.2,
             "#de77ae"
            ],
            [
             0.3,
             "#f1b6da"
            ],
            [
             0.4,
             "#fde0ef"
            ],
            [
             0.5,
             "#f7f7f7"
            ],
            [
             0.6,
             "#e6f5d0"
            ],
            [
             0.7,
             "#b8e186"
            ],
            [
             0.8,
             "#7fbc41"
            ],
            [
             0.9,
             "#4d9221"
            ],
            [
             1,
             "#276419"
            ]
           ],
           "sequential": [
            [
             0,
             "#0d0887"
            ],
            [
             0.1111111111111111,
             "#46039f"
            ],
            [
             0.2222222222222222,
             "#7201a8"
            ],
            [
             0.3333333333333333,
             "#9c179e"
            ],
            [
             0.4444444444444444,
             "#bd3786"
            ],
            [
             0.5555555555555556,
             "#d8576b"
            ],
            [
             0.6666666666666666,
             "#ed7953"
            ],
            [
             0.7777777777777778,
             "#fb9f3a"
            ],
            [
             0.8888888888888888,
             "#fdca26"
            ],
            [
             1,
             "#f0f921"
            ]
           ],
           "sequentialminus": [
            [
             0,
             "#0d0887"
            ],
            [
             0.1111111111111111,
             "#46039f"
            ],
            [
             0.2222222222222222,
             "#7201a8"
            ],
            [
             0.3333333333333333,
             "#9c179e"
            ],
            [
             0.4444444444444444,
             "#bd3786"
            ],
            [
             0.5555555555555556,
             "#d8576b"
            ],
            [
             0.6666666666666666,
             "#ed7953"
            ],
            [
             0.7777777777777778,
             "#fb9f3a"
            ],
            [
             0.8888888888888888,
             "#fdca26"
            ],
            [
             1,
             "#f0f921"
            ]
           ]
          },
          "colorway": [
           "#636efa",
           "#EF553B",
           "#00cc96",
           "#ab63fa",
           "#FFA15A",
           "#19d3f3",
           "#FF6692",
           "#B6E880",
           "#FF97FF",
           "#FECB52"
          ],
          "font": {
           "color": "#2a3f5f"
          },
          "geo": {
           "bgcolor": "white",
           "lakecolor": "white",
           "landcolor": "#E5ECF6",
           "showlakes": true,
           "showland": true,
           "subunitcolor": "white"
          },
          "hoverlabel": {
           "align": "left"
          },
          "hovermode": "closest",
          "mapbox": {
           "style": "light"
          },
          "paper_bgcolor": "white",
          "plot_bgcolor": "#E5ECF6",
          "polar": {
           "angularaxis": {
            "gridcolor": "white",
            "linecolor": "white",
            "ticks": ""
           },
           "bgcolor": "#E5ECF6",
           "radialaxis": {
            "gridcolor": "white",
            "linecolor": "white",
            "ticks": ""
           }
          },
          "scene": {
           "xaxis": {
            "backgroundcolor": "#E5ECF6",
            "gridcolor": "white",
            "gridwidth": 2,
            "linecolor": "white",
            "showbackground": true,
            "ticks": "",
            "zerolinecolor": "white"
           },
           "yaxis": {
            "backgroundcolor": "#E5ECF6",
            "gridcolor": "white",
            "gridwidth": 2,
            "linecolor": "white",
            "showbackground": true,
            "ticks": "",
            "zerolinecolor": "white"
           },
           "zaxis": {
            "backgroundcolor": "#E5ECF6",
            "gridcolor": "white",
            "gridwidth": 2,
            "linecolor": "white",
            "showbackground": true,
            "ticks": "",
            "zerolinecolor": "white"
           }
          },
          "shapedefaults": {
           "line": {
            "color": "#2a3f5f"
           }
          },
          "ternary": {
           "aaxis": {
            "gridcolor": "white",
            "linecolor": "white",
            "ticks": ""
           },
           "baxis": {
            "gridcolor": "white",
            "linecolor": "white",
            "ticks": ""
           },
           "bgcolor": "#E5ECF6",
           "caxis": {
            "gridcolor": "white",
            "linecolor": "white",
            "ticks": ""
           }
          },
          "title": {
           "x": 0.05
          },
          "xaxis": {
           "automargin": true,
           "gridcolor": "white",
           "linecolor": "white",
           "ticks": "",
           "title": {
            "standoff": 15
           },
           "zerolinecolor": "white",
           "zerolinewidth": 2
          },
          "yaxis": {
           "automargin": true,
           "gridcolor": "white",
           "linecolor": "white",
           "ticks": "",
           "title": {
            "standoff": 15
           },
           "zerolinecolor": "white",
           "zerolinewidth": 2
          }
         }
        },
        "xaxis": {
         "anchor": "y",
         "domain": [
          0,
          1
         ],
         "title": {
          "text": "value"
         }
        },
        "yaxis": {
         "anchor": "x",
         "domain": [
          0,
          1
         ],
         "title": {
          "text": "count"
         }
        }
       }
      },
      "text/html": [
       "<div>\n",
       "        \n",
       "        \n",
       "            <div id=\"bf8a94f3-8e54-4749-b28c-78d75a3ff1b9\" class=\"plotly-graph-div\" style=\"height:525px; width:100%;\"></div>\n",
       "            <script type=\"text/javascript\">\n",
       "                require([\"plotly\"], function(Plotly) {\n",
       "                    window.PLOTLYENV=window.PLOTLYENV || {};\n",
       "                    \n",
       "                if (document.getElementById(\"bf8a94f3-8e54-4749-b28c-78d75a3ff1b9\")) {\n",
       "                    Plotly.newPlot(\n",
       "                        'bf8a94f3-8e54-4749-b28c-78d75a3ff1b9',\n",
       "                        [{\"alignmentgroup\": \"True\", \"bingroup\": \"x\", \"hovertemplate\": \"variable=0<br>value=%{x}<br>count=%{y}<extra></extra>\", \"legendgroup\": \"0\", \"marker\": {\"color\": \"#636efa\"}, \"name\": \"0\", \"offsetgroup\": \"0\", \"orientation\": \"v\", \"showlegend\": true, \"type\": \"histogram\", \"x\": [2564753, 2231920, 2628872, 8000000, 2564753, 2564753, 8815100, 2564753, 1691680, 2028594, 5500000, 2028594, 12500000, 36000000, 1678854, 1882867, 1445697, 1445697, 14545000, 2564753, 18900000, 13500000, 10000000, 3500000, 3713575, 1620564, 898310, 8000000, 3000000, 2564753, 16000000, 2500000, 5000000, 5860950, 4886175, 17000000, 4886175, 4100000, 1737145, 2592179, 3000000, 2564753, 2331593, 4000000, 13333327, 200000, 25000000, 2028594, 4900000, 2155814, 2028594, 8975000, 3280000, 1830141, 21250000, 2250000, 34122650, 2028594, 2564753, 37980720, 35500000, 3000000, 4821429, 41063925, 8291514, 35197650, 15000000, 34379100, 4767000, 20700000, 1620564, 15000000, 35197650, 10500000, 2564753, 4100000, 1737145, 2564753, 4886175, 2006445, 3761085, 1737145, 6500000, 13250000, 7000000, 2320044, 2031677, 21250000, 1882867, 9590602, 4767000, 1691680, 4767000, 4886175, 1737145, 8000000, 2080000, 4886175, 2564753, 1751429, 4000000, 13333333, 1620564, 7500000, 6883333, 3500000, 14025000, 9990179, 7125000, 3717000, 15000000, 5000000, 29331375, 12400000, 1678854, 13000000, 1445697, 18275000, 15000000, 3500000, 4886175, 2271991, 2564753, 2750000, 2320044, 9720900, 27250000], \"xaxis\": \"x\", \"yaxis\": \"y\"}],\n",
       "                        {\"barmode\": \"relative\", \"legend\": {\"title\": {\"text\": \"variable\"}, \"tracegroupgap\": 0}, \"margin\": {\"t\": 60}, \"template\": {\"data\": {\"bar\": [{\"error_x\": {\"color\": \"#2a3f5f\"}, \"error_y\": {\"color\": \"#2a3f5f\"}, \"marker\": {\"line\": {\"color\": \"#E5ECF6\", \"width\": 0.5}}, \"type\": \"bar\"}], \"barpolar\": [{\"marker\": {\"line\": {\"color\": \"#E5ECF6\", \"width\": 0.5}}, \"type\": \"barpolar\"}], \"carpet\": [{\"aaxis\": {\"endlinecolor\": \"#2a3f5f\", \"gridcolor\": \"white\", \"linecolor\": \"white\", \"minorgridcolor\": \"white\", \"startlinecolor\": \"#2a3f5f\"}, \"baxis\": {\"endlinecolor\": \"#2a3f5f\", \"gridcolor\": \"white\", \"linecolor\": \"white\", \"minorgridcolor\": \"white\", \"startlinecolor\": \"#2a3f5f\"}, \"type\": \"carpet\"}], \"choropleth\": [{\"colorbar\": {\"outlinewidth\": 0, \"ticks\": \"\"}, \"type\": \"choropleth\"}], \"contour\": [{\"colorbar\": {\"outlinewidth\": 0, \"ticks\": \"\"}, \"colorscale\": [[0.0, \"#0d0887\"], [0.1111111111111111, \"#46039f\"], [0.2222222222222222, \"#7201a8\"], [0.3333333333333333, \"#9c179e\"], [0.4444444444444444, \"#bd3786\"], [0.5555555555555556, \"#d8576b\"], [0.6666666666666666, \"#ed7953\"], [0.7777777777777778, \"#fb9f3a\"], [0.8888888888888888, \"#fdca26\"], [1.0, \"#f0f921\"]], \"type\": \"contour\"}], \"contourcarpet\": [{\"colorbar\": {\"outlinewidth\": 0, \"ticks\": \"\"}, \"type\": \"contourcarpet\"}], \"heatmap\": [{\"colorbar\": {\"outlinewidth\": 0, \"ticks\": \"\"}, \"colorscale\": [[0.0, \"#0d0887\"], [0.1111111111111111, \"#46039f\"], [0.2222222222222222, \"#7201a8\"], [0.3333333333333333, \"#9c179e\"], [0.4444444444444444, \"#bd3786\"], [0.5555555555555556, \"#d8576b\"], [0.6666666666666666, \"#ed7953\"], [0.7777777777777778, \"#fb9f3a\"], [0.8888888888888888, \"#fdca26\"], [1.0, \"#f0f921\"]], \"type\": \"heatmap\"}], \"heatmapgl\": [{\"colorbar\": {\"outlinewidth\": 0, \"ticks\": \"\"}, \"colorscale\": [[0.0, \"#0d0887\"], [0.1111111111111111, \"#46039f\"], [0.2222222222222222, \"#7201a8\"], [0.3333333333333333, \"#9c179e\"], [0.4444444444444444, \"#bd3786\"], [0.5555555555555556, \"#d8576b\"], [0.6666666666666666, \"#ed7953\"], [0.7777777777777778, \"#fb9f3a\"], [0.8888888888888888, \"#fdca26\"], [1.0, \"#f0f921\"]], \"type\": \"heatmapgl\"}], \"histogram\": [{\"marker\": {\"colorbar\": {\"outlinewidth\": 0, \"ticks\": \"\"}}, \"type\": \"histogram\"}], \"histogram2d\": [{\"colorbar\": {\"outlinewidth\": 0, \"ticks\": \"\"}, \"colorscale\": [[0.0, \"#0d0887\"], [0.1111111111111111, \"#46039f\"], [0.2222222222222222, \"#7201a8\"], [0.3333333333333333, \"#9c179e\"], [0.4444444444444444, \"#bd3786\"], [0.5555555555555556, \"#d8576b\"], [0.6666666666666666, \"#ed7953\"], [0.7777777777777778, \"#fb9f3a\"], [0.8888888888888888, \"#fdca26\"], [1.0, \"#f0f921\"]], \"type\": \"histogram2d\"}], \"histogram2dcontour\": [{\"colorbar\": {\"outlinewidth\": 0, \"ticks\": \"\"}, \"colorscale\": [[0.0, \"#0d0887\"], [0.1111111111111111, \"#46039f\"], [0.2222222222222222, \"#7201a8\"], [0.3333333333333333, \"#9c179e\"], [0.4444444444444444, \"#bd3786\"], [0.5555555555555556, \"#d8576b\"], [0.6666666666666666, \"#ed7953\"], [0.7777777777777778, \"#fb9f3a\"], [0.8888888888888888, \"#fdca26\"], [1.0, \"#f0f921\"]], \"type\": \"histogram2dcontour\"}], \"mesh3d\": [{\"colorbar\": {\"outlinewidth\": 0, \"ticks\": \"\"}, \"type\": \"mesh3d\"}], \"parcoords\": [{\"line\": {\"colorbar\": {\"outlinewidth\": 0, \"ticks\": \"\"}}, \"type\": \"parcoords\"}], \"pie\": [{\"automargin\": true, \"type\": \"pie\"}], \"scatter\": [{\"marker\": {\"colorbar\": {\"outlinewidth\": 0, \"ticks\": \"\"}}, \"type\": \"scatter\"}], \"scatter3d\": [{\"line\": {\"colorbar\": {\"outlinewidth\": 0, \"ticks\": \"\"}}, \"marker\": {\"colorbar\": {\"outlinewidth\": 0, \"ticks\": \"\"}}, \"type\": \"scatter3d\"}], \"scattercarpet\": [{\"marker\": {\"colorbar\": {\"outlinewidth\": 0, \"ticks\": \"\"}}, \"type\": \"scattercarpet\"}], \"scattergeo\": [{\"marker\": {\"colorbar\": {\"outlinewidth\": 0, \"ticks\": \"\"}}, \"type\": \"scattergeo\"}], \"scattergl\": [{\"marker\": {\"colorbar\": {\"outlinewidth\": 0, \"ticks\": \"\"}}, \"type\": \"scattergl\"}], \"scattermapbox\": [{\"marker\": {\"colorbar\": {\"outlinewidth\": 0, \"ticks\": \"\"}}, \"type\": \"scattermapbox\"}], \"scatterpolar\": [{\"marker\": {\"colorbar\": {\"outlinewidth\": 0, \"ticks\": \"\"}}, \"type\": \"scatterpolar\"}], \"scatterpolargl\": [{\"marker\": {\"colorbar\": {\"outlinewidth\": 0, \"ticks\": \"\"}}, \"type\": \"scatterpolargl\"}], \"scatterternary\": [{\"marker\": {\"colorbar\": {\"outlinewidth\": 0, \"ticks\": \"\"}}, \"type\": \"scatterternary\"}], \"surface\": [{\"colorbar\": {\"outlinewidth\": 0, \"ticks\": \"\"}, \"colorscale\": [[0.0, \"#0d0887\"], [0.1111111111111111, \"#46039f\"], [0.2222222222222222, \"#7201a8\"], [0.3333333333333333, \"#9c179e\"], [0.4444444444444444, \"#bd3786\"], [0.5555555555555556, \"#d8576b\"], [0.6666666666666666, \"#ed7953\"], [0.7777777777777778, \"#fb9f3a\"], [0.8888888888888888, \"#fdca26\"], [1.0, \"#f0f921\"]], \"type\": \"surface\"}], \"table\": [{\"cells\": {\"fill\": {\"color\": \"#EBF0F8\"}, \"line\": {\"color\": \"white\"}}, \"header\": {\"fill\": {\"color\": \"#C8D4E3\"}, \"line\": {\"color\": \"white\"}}, \"type\": \"table\"}]}, \"layout\": {\"annotationdefaults\": {\"arrowcolor\": \"#2a3f5f\", \"arrowhead\": 0, \"arrowwidth\": 1}, \"coloraxis\": {\"colorbar\": {\"outlinewidth\": 0, \"ticks\": \"\"}}, \"colorscale\": {\"diverging\": [[0, \"#8e0152\"], [0.1, \"#c51b7d\"], [0.2, \"#de77ae\"], [0.3, \"#f1b6da\"], [0.4, \"#fde0ef\"], [0.5, \"#f7f7f7\"], [0.6, \"#e6f5d0\"], [0.7, \"#b8e186\"], [0.8, \"#7fbc41\"], [0.9, \"#4d9221\"], [1, \"#276419\"]], \"sequential\": [[0.0, \"#0d0887\"], [0.1111111111111111, \"#46039f\"], [0.2222222222222222, \"#7201a8\"], [0.3333333333333333, \"#9c179e\"], [0.4444444444444444, \"#bd3786\"], [0.5555555555555556, \"#d8576b\"], [0.6666666666666666, \"#ed7953\"], [0.7777777777777778, \"#fb9f3a\"], [0.8888888888888888, \"#fdca26\"], [1.0, \"#f0f921\"]], \"sequentialminus\": [[0.0, \"#0d0887\"], [0.1111111111111111, \"#46039f\"], [0.2222222222222222, \"#7201a8\"], [0.3333333333333333, \"#9c179e\"], [0.4444444444444444, \"#bd3786\"], [0.5555555555555556, \"#d8576b\"], [0.6666666666666666, \"#ed7953\"], [0.7777777777777778, \"#fb9f3a\"], [0.8888888888888888, \"#fdca26\"], [1.0, \"#f0f921\"]]}, \"colorway\": [\"#636efa\", \"#EF553B\", \"#00cc96\", \"#ab63fa\", \"#FFA15A\", \"#19d3f3\", \"#FF6692\", \"#B6E880\", \"#FF97FF\", \"#FECB52\"], \"font\": {\"color\": \"#2a3f5f\"}, \"geo\": {\"bgcolor\": \"white\", \"lakecolor\": \"white\", \"landcolor\": \"#E5ECF6\", \"showlakes\": true, \"showland\": true, \"subunitcolor\": \"white\"}, \"hoverlabel\": {\"align\": \"left\"}, \"hovermode\": \"closest\", \"mapbox\": {\"style\": \"light\"}, \"paper_bgcolor\": \"white\", \"plot_bgcolor\": \"#E5ECF6\", \"polar\": {\"angularaxis\": {\"gridcolor\": \"white\", \"linecolor\": \"white\", \"ticks\": \"\"}, \"bgcolor\": \"#E5ECF6\", \"radialaxis\": {\"gridcolor\": \"white\", \"linecolor\": \"white\", \"ticks\": \"\"}}, \"scene\": {\"xaxis\": {\"backgroundcolor\": \"#E5ECF6\", \"gridcolor\": \"white\", \"gridwidth\": 2, \"linecolor\": \"white\", \"showbackground\": true, \"ticks\": \"\", \"zerolinecolor\": \"white\"}, \"yaxis\": {\"backgroundcolor\": \"#E5ECF6\", \"gridcolor\": \"white\", \"gridwidth\": 2, \"linecolor\": \"white\", \"showbackground\": true, \"ticks\": \"\", \"zerolinecolor\": \"white\"}, \"zaxis\": {\"backgroundcolor\": \"#E5ECF6\", \"gridcolor\": \"white\", \"gridwidth\": 2, \"linecolor\": \"white\", \"showbackground\": true, \"ticks\": \"\", \"zerolinecolor\": \"white\"}}, \"shapedefaults\": {\"line\": {\"color\": \"#2a3f5f\"}}, \"ternary\": {\"aaxis\": {\"gridcolor\": \"white\", \"linecolor\": \"white\", \"ticks\": \"\"}, \"baxis\": {\"gridcolor\": \"white\", \"linecolor\": \"white\", \"ticks\": \"\"}, \"bgcolor\": \"#E5ECF6\", \"caxis\": {\"gridcolor\": \"white\", \"linecolor\": \"white\", \"ticks\": \"\"}}, \"title\": {\"x\": 0.05}, \"xaxis\": {\"automargin\": true, \"gridcolor\": \"white\", \"linecolor\": \"white\", \"ticks\": \"\", \"title\": {\"standoff\": 15}, \"zerolinecolor\": \"white\", \"zerolinewidth\": 2}, \"yaxis\": {\"automargin\": true, \"gridcolor\": \"white\", \"linecolor\": \"white\", \"ticks\": \"\", \"title\": {\"standoff\": 15}, \"zerolinecolor\": \"white\", \"zerolinewidth\": 2}}}, \"xaxis\": {\"anchor\": \"y\", \"domain\": [0.0, 1.0], \"title\": {\"text\": \"value\"}}, \"yaxis\": {\"anchor\": \"x\", \"domain\": [0.0, 1.0], \"title\": {\"text\": \"count\"}}},\n",
       "                        {\"responsive\": true}\n",
       "                    ).then(function(){\n",
       "                            \n",
       "var gd = document.getElementById('bf8a94f3-8e54-4749-b28c-78d75a3ff1b9');\n",
       "var x = new MutationObserver(function (mutations, observer) {{\n",
       "        var display = window.getComputedStyle(gd).display;\n",
       "        if (!display || display === 'none') {{\n",
       "            console.log([gd, 'removed!']);\n",
       "            Plotly.purge(gd);\n",
       "            observer.disconnect();\n",
       "        }}\n",
       "}});\n",
       "\n",
       "// Listen for the removal of the full notebook cells\n",
       "var notebookContainer = gd.closest('#notebook-container');\n",
       "if (notebookContainer) {{\n",
       "    x.observe(notebookContainer, {childList: true});\n",
       "}}\n",
       "\n",
       "// Listen for the clearing of the current output cell\n",
       "var outputEl = gd.closest('.output');\n",
       "if (outputEl) {{\n",
       "    x.observe(outputEl, {childList: true});\n",
       "}}\n",
       "\n",
       "                        })\n",
       "                };\n",
       "                });\n",
       "            </script>\n",
       "        </div>"
      ]
     },
     "metadata": {},
     "output_type": "display_data"
    }
   ],
   "source": [
    "import plotly.express as px\n",
    "df = px.data.tips()\n",
    "fig = px.histogram(averagesalary)\n",
    "fig.show()"
   ]
  },
  {
   "cell_type": "code",
   "execution_count": 457,
   "metadata": {},
   "outputs": [
    {
     "data": {
      "text/html": [
       "<div>\n",
       "<style scoped>\n",
       "    .dataframe tbody tr th:only-of-type {\n",
       "        vertical-align: middle;\n",
       "    }\n",
       "\n",
       "    .dataframe tbody tr th {\n",
       "        vertical-align: top;\n",
       "    }\n",
       "\n",
       "    .dataframe thead th {\n",
       "        text-align: right;\n",
       "    }\n",
       "</style>\n",
       "<table border=\"1\" class=\"dataframe\">\n",
       "  <thead>\n",
       "    <tr style=\"text-align: right;\">\n",
       "      <th></th>\n",
       "      <th>Unnamed: 0</th>\n",
       "      <th>Player</th>\n",
       "      <th>TYPE</th>\n",
       "      <th>AVG SALARY</th>\n",
       "      <th>Pos</th>\n",
       "      <th>Age</th>\n",
       "      <th>Tm</th>\n",
       "      <th>G</th>\n",
       "      <th>MP</th>\n",
       "      <th>PER</th>\n",
       "      <th>...</th>\n",
       "      <th>AST</th>\n",
       "      <th>STL</th>\n",
       "      <th>BLK</th>\n",
       "      <th>TOV</th>\n",
       "      <th>PF</th>\n",
       "      <th>PTS</th>\n",
       "      <th>ORtg</th>\n",
       "      <th>DRtg</th>\n",
       "      <th>eFG</th>\n",
       "      <th>TOV_Factor</th>\n",
       "    </tr>\n",
       "  </thead>\n",
       "  <tbody>\n",
       "    <tr>\n",
       "      <th>0</th>\n",
       "      <td>0</td>\n",
       "      <td>Zaza Pachulia</td>\n",
       "      <td>UFA</td>\n",
       "      <td>898310</td>\n",
       "      <td>C</td>\n",
       "      <td>34</td>\n",
       "      <td>DET</td>\n",
       "      <td>68</td>\n",
       "      <td>878</td>\n",
       "      <td>13.7</td>\n",
       "      <td>...</td>\n",
       "      <td>5.1</td>\n",
       "      <td>1.7</td>\n",
       "      <td>1.0</td>\n",
       "      <td>3.2</td>\n",
       "      <td>8.5</td>\n",
       "      <td>15.0</td>\n",
       "      <td>114.0</td>\n",
       "      <td>107</td>\n",
       "      <td>0.444444</td>\n",
       "      <td>0.187354</td>\n",
       "    </tr>\n",
       "    <tr>\n",
       "      <th>1</th>\n",
       "      <td>1</td>\n",
       "      <td>Zach Lofton</td>\n",
       "      <td>RFA</td>\n",
       "      <td>898310</td>\n",
       "      <td>SG</td>\n",
       "      <td>26</td>\n",
       "      <td>DET</td>\n",
       "      <td>1</td>\n",
       "      <td>4</td>\n",
       "      <td>-10.0</td>\n",
       "      <td>...</td>\n",
       "      <td>0.0</td>\n",
       "      <td>12.3</td>\n",
       "      <td>0.0</td>\n",
       "      <td>12.3</td>\n",
       "      <td>0.0</td>\n",
       "      <td>0.0</td>\n",
       "      <td>0.0</td>\n",
       "      <td>90</td>\n",
       "      <td>0.000000</td>\n",
       "      <td>0.500000</td>\n",
       "    </tr>\n",
       "    <tr>\n",
       "      <th>2</th>\n",
       "      <td>2</td>\n",
       "      <td>Yante Maten</td>\n",
       "      <td>UFA</td>\n",
       "      <td>898310</td>\n",
       "      <td>PF</td>\n",
       "      <td>22</td>\n",
       "      <td>MIA</td>\n",
       "      <td>2</td>\n",
       "      <td>13</td>\n",
       "      <td>5.7</td>\n",
       "      <td>...</td>\n",
       "      <td>0.0</td>\n",
       "      <td>3.8</td>\n",
       "      <td>0.0</td>\n",
       "      <td>0.0</td>\n",
       "      <td>0.0</td>\n",
       "      <td>7.5</td>\n",
       "      <td>70.0</td>\n",
       "      <td>104</td>\n",
       "      <td>0.253333</td>\n",
       "      <td>0.000000</td>\n",
       "    </tr>\n",
       "    <tr>\n",
       "      <th>3</th>\n",
       "      <td>3</td>\n",
       "      <td>Wilson Chandler</td>\n",
       "      <td>UFA</td>\n",
       "      <td>2564753</td>\n",
       "      <td>PF-SF</td>\n",
       "      <td>31</td>\n",
       "      <td>TOT</td>\n",
       "      <td>51</td>\n",
       "      <td>1177</td>\n",
       "      <td>8.5</td>\n",
       "      <td>...</td>\n",
       "      <td>3.3</td>\n",
       "      <td>1.0</td>\n",
       "      <td>0.8</td>\n",
       "      <td>1.8</td>\n",
       "      <td>4.9</td>\n",
       "      <td>12.2</td>\n",
       "      <td>107.0</td>\n",
       "      <td>112</td>\n",
       "      <td>0.527273</td>\n",
       "      <td>0.135952</td>\n",
       "    </tr>\n",
       "    <tr>\n",
       "      <th>4</th>\n",
       "      <td>4</td>\n",
       "      <td>Willie Cauley-Stein</td>\n",
       "      <td>UFA</td>\n",
       "      <td>2231920</td>\n",
       "      <td>C</td>\n",
       "      <td>25</td>\n",
       "      <td>SAC</td>\n",
       "      <td>81</td>\n",
       "      <td>2213</td>\n",
       "      <td>18.0</td>\n",
       "      <td>...</td>\n",
       "      <td>4.1</td>\n",
       "      <td>2.0</td>\n",
       "      <td>1.1</td>\n",
       "      <td>1.8</td>\n",
       "      <td>4.8</td>\n",
       "      <td>20.3</td>\n",
       "      <td>118.0</td>\n",
       "      <td>108</td>\n",
       "      <td>0.557692</td>\n",
       "      <td>0.091222</td>\n",
       "    </tr>\n",
       "    <tr>\n",
       "      <th>...</th>\n",
       "      <td>...</td>\n",
       "      <td>...</td>\n",
       "      <td>...</td>\n",
       "      <td>...</td>\n",
       "      <td>...</td>\n",
       "      <td>...</td>\n",
       "      <td>...</td>\n",
       "      <td>...</td>\n",
       "      <td>...</td>\n",
       "      <td>...</td>\n",
       "      <td>...</td>\n",
       "      <td>...</td>\n",
       "      <td>...</td>\n",
       "      <td>...</td>\n",
       "      <td>...</td>\n",
       "      <td>...</td>\n",
       "      <td>...</td>\n",
       "      <td>...</td>\n",
       "      <td>...</td>\n",
       "      <td>...</td>\n",
       "      <td>...</td>\n",
       "    </tr>\n",
       "    <tr>\n",
       "      <th>217</th>\n",
       "      <td>217</td>\n",
       "      <td>Alex Caruso</td>\n",
       "      <td>RFA</td>\n",
       "      <td>2750000</td>\n",
       "      <td>PG</td>\n",
       "      <td>24</td>\n",
       "      <td>LAL</td>\n",
       "      <td>25</td>\n",
       "      <td>531</td>\n",
       "      <td>13.9</td>\n",
       "      <td>...</td>\n",
       "      <td>6.7</td>\n",
       "      <td>2.1</td>\n",
       "      <td>0.8</td>\n",
       "      <td>3.7</td>\n",
       "      <td>4.7</td>\n",
       "      <td>20.1</td>\n",
       "      <td>109.0</td>\n",
       "      <td>110</td>\n",
       "      <td>0.509868</td>\n",
       "      <td>0.173189</td>\n",
       "    </tr>\n",
       "    <tr>\n",
       "      <th>218</th>\n",
       "      <td>218</td>\n",
       "      <td>Alec Burks</td>\n",
       "      <td>UFA</td>\n",
       "      <td>2320044</td>\n",
       "      <td>SG</td>\n",
       "      <td>27</td>\n",
       "      <td>TOT</td>\n",
       "      <td>64</td>\n",
       "      <td>1375</td>\n",
       "      <td>12.7</td>\n",
       "      <td>...</td>\n",
       "      <td>4.6</td>\n",
       "      <td>1.4</td>\n",
       "      <td>0.7</td>\n",
       "      <td>2.3</td>\n",
       "      <td>3.2</td>\n",
       "      <td>20.0</td>\n",
       "      <td>106.0</td>\n",
       "      <td>114</td>\n",
       "      <td>0.467456</td>\n",
       "      <td>0.107477</td>\n",
       "    </tr>\n",
       "    <tr>\n",
       "      <th>219</th>\n",
       "      <td>219</td>\n",
       "      <td>Alan Williams</td>\n",
       "      <td>UFA</td>\n",
       "      <td>898310</td>\n",
       "      <td>PF</td>\n",
       "      <td>26</td>\n",
       "      <td>BRK</td>\n",
       "      <td>5</td>\n",
       "      <td>26</td>\n",
       "      <td>32.9</td>\n",
       "      <td>...</td>\n",
       "      <td>5.5</td>\n",
       "      <td>1.8</td>\n",
       "      <td>0.0</td>\n",
       "      <td>1.8</td>\n",
       "      <td>3.7</td>\n",
       "      <td>33.0</td>\n",
       "      <td>128.0</td>\n",
       "      <td>98</td>\n",
       "      <td>0.613445</td>\n",
       "      <td>0.062474</td>\n",
       "    </tr>\n",
       "    <tr>\n",
       "      <th>220</th>\n",
       "      <td>220</td>\n",
       "      <td>Al-Farouq Aminu</td>\n",
       "      <td>UFA</td>\n",
       "      <td>9720900</td>\n",
       "      <td>PF</td>\n",
       "      <td>28</td>\n",
       "      <td>POR</td>\n",
       "      <td>81</td>\n",
       "      <td>2292</td>\n",
       "      <td>13.2</td>\n",
       "      <td>...</td>\n",
       "      <td>2.2</td>\n",
       "      <td>1.4</td>\n",
       "      <td>0.7</td>\n",
       "      <td>1.5</td>\n",
       "      <td>3.0</td>\n",
       "      <td>16.1</td>\n",
       "      <td>118.0</td>\n",
       "      <td>109</td>\n",
       "      <td>0.512000</td>\n",
       "      <td>0.095982</td>\n",
       "    </tr>\n",
       "    <tr>\n",
       "      <th>221</th>\n",
       "      <td>221</td>\n",
       "      <td>Al Horford</td>\n",
       "      <td>UFA</td>\n",
       "      <td>27250000</td>\n",
       "      <td>C</td>\n",
       "      <td>32</td>\n",
       "      <td>BOS</td>\n",
       "      <td>68</td>\n",
       "      <td>1973</td>\n",
       "      <td>20.2</td>\n",
       "      <td>...</td>\n",
       "      <td>6.9</td>\n",
       "      <td>1.4</td>\n",
       "      <td>2.1</td>\n",
       "      <td>2.5</td>\n",
       "      <td>3.1</td>\n",
       "      <td>22.6</td>\n",
       "      <td>122.0</td>\n",
       "      <td>107</td>\n",
       "      <td>0.581921</td>\n",
       "      <td>0.117858</td>\n",
       "    </tr>\n",
       "  </tbody>\n",
       "</table>\n",
       "<p>222 rows × 55 columns</p>\n",
       "</div>"
      ],
      "text/plain": [
       "     Unnamed: 0               Player TYPE  AVG SALARY    Pos  Age   Tm   G  \\\n",
       "0             0        Zaza Pachulia  UFA      898310      C   34  DET  68   \n",
       "1             1          Zach Lofton  RFA      898310     SG   26  DET   1   \n",
       "2             2          Yante Maten  UFA      898310     PF   22  MIA   2   \n",
       "3             3      Wilson Chandler  UFA     2564753  PF-SF   31  TOT  51   \n",
       "4             4  Willie Cauley-Stein  UFA     2231920      C   25  SAC  81   \n",
       "..          ...                  ...  ...         ...    ...  ...  ...  ..   \n",
       "217         217          Alex Caruso  RFA     2750000     PG   24  LAL  25   \n",
       "218         218           Alec Burks  UFA     2320044     SG   27  TOT  64   \n",
       "219         219        Alan Williams  UFA      898310     PF   26  BRK   5   \n",
       "220         220      Al-Farouq Aminu  UFA     9720900     PF   28  POR  81   \n",
       "221         221           Al Horford  UFA    27250000      C   32  BOS  68   \n",
       "\n",
       "       MP   PER  ...  AST   STL  BLK   TOV   PF   PTS   ORtg  DRtg       eFG  \\\n",
       "0     878  13.7  ...  5.1   1.7  1.0   3.2  8.5  15.0  114.0   107  0.444444   \n",
       "1       4 -10.0  ...  0.0  12.3  0.0  12.3  0.0   0.0    0.0    90  0.000000   \n",
       "2      13   5.7  ...  0.0   3.8  0.0   0.0  0.0   7.5   70.0   104  0.253333   \n",
       "3    1177   8.5  ...  3.3   1.0  0.8   1.8  4.9  12.2  107.0   112  0.527273   \n",
       "4    2213  18.0  ...  4.1   2.0  1.1   1.8  4.8  20.3  118.0   108  0.557692   \n",
       "..    ...   ...  ...  ...   ...  ...   ...  ...   ...    ...   ...       ...   \n",
       "217   531  13.9  ...  6.7   2.1  0.8   3.7  4.7  20.1  109.0   110  0.509868   \n",
       "218  1375  12.7  ...  4.6   1.4  0.7   2.3  3.2  20.0  106.0   114  0.467456   \n",
       "219    26  32.9  ...  5.5   1.8  0.0   1.8  3.7  33.0  128.0    98  0.613445   \n",
       "220  2292  13.2  ...  2.2   1.4  0.7   1.5  3.0  16.1  118.0   109  0.512000   \n",
       "221  1973  20.2  ...  6.9   1.4  2.1   2.5  3.1  22.6  122.0   107  0.581921   \n",
       "\n",
       "     TOV_Factor  \n",
       "0      0.187354  \n",
       "1      0.500000  \n",
       "2      0.000000  \n",
       "3      0.135952  \n",
       "4      0.091222  \n",
       "..          ...  \n",
       "217    0.173189  \n",
       "218    0.107477  \n",
       "219    0.062474  \n",
       "220    0.095982  \n",
       "221    0.117858  \n",
       "\n",
       "[222 rows x 55 columns]"
      ]
     },
     "execution_count": 457,
     "metadata": {},
     "output_type": "execute_result"
    }
   ],
   "source": [
    "free_agents"
   ]
  }
 ],
 "metadata": {
  "kernelspec": {
   "display_name": "Python 3",
   "language": "python",
   "name": "python3"
  },
  "language_info": {
   "codemirror_mode": {
    "name": "ipython",
    "version": 3
   },
   "file_extension": ".py",
   "mimetype": "text/x-python",
   "name": "python",
   "nbconvert_exporter": "python",
   "pygments_lexer": "ipython3",
   "version": "3.6.10"
  }
 },
 "nbformat": 4,
 "nbformat_minor": 4
}
